{
 "cells": [
  {
   "cell_type": "code",
   "execution_count": 1,
   "id": "af784e9c",
   "metadata": {},
   "outputs": [],
   "source": [
    "import pandas as pd\n",
    "import numpy as np"
   ]
  },
  {
   "cell_type": "code",
   "execution_count": 2,
   "id": "af63ea3c",
   "metadata": {},
   "outputs": [
    {
     "name": "stderr",
     "output_type": "stream",
     "text": [
      "C:\\Users\\hp\\AppData\\Local\\Temp\\ipykernel_14596\\1802023970.py:1: DtypeWarning: Columns (16,34,36,38,39,41,42,43,44,45,48,49,50,51) have mixed types. Specify dtype option on import or set low_memory=False.\n",
      "  df = pd.read_csv(r'D:\\Big Data\\makemytrip.csv',encoding='ISO-8859-1', on_bad_lines='skip')\n"
     ]
    }
   ],
   "source": [
    "df = pd.read_csv(r'D:\\Big Data\\makemytrip.csv',encoding='ISO-8859-1', on_bad_lines='skip')"
   ]
  },
  {
   "cell_type": "code",
   "execution_count": 3,
   "id": "d89efd69",
   "metadata": {},
   "outputs": [
    {
     "name": "stdout",
     "output_type": "stream",
     "text": [
      "Shape : (20095, 52)\n",
      "Columns : Index(['area', 'city', 'country', 'crawl_date', 'highlight_value',\n",
      "       'hotel_overview', 'hotel_ star _rating', 'image_urls', 'in_your_room',\n",
      "       'is_value_plus', 'latitude', 'longitude', 'mmt_holidayiq_review_count',\n",
      "       'mmt_location_rating', 'mmt_review_count', 'mmt_review_rating',\n",
      "       'mmt_review_score', 'mmt_traveller_type_review_count',\n",
      "       'mmt_tripadvisor_count', 'pageurl', 'property_address', 'property_id',\n",
      "       'property_name', 'property_type', 'qts', 'query_time_stamp',\n",
      "       'room_types', 'site_review_count', 'site_review_rating', 'sitename',\n",
      "       'state', 'traveller_rating', 'uniq_id', 'price', 'Unnamed: 34',\n",
      "       'Unnamed: 35', 'Unnamed: 36', 'Unnamed: 37', 'Unnamed: 38',\n",
      "       'Unnamed: 39', 'Unnamed: 40', 'Unnamed: 41', 'Unnamed: 42',\n",
      "       'Unnamed: 43', 'Unnamed: 44', 'Unnamed: 45', 'Unnamed: 46',\n",
      "       'Unnamed: 47', 'Unnamed: 48', 'Unnamed: 49', 'Unnamed: 50',\n",
      "       'Unnamed: 51'],\n",
      "      dtype='object')\n",
      "                    area     city country  crawl_date  \\\n",
      "0      Hardasji Ki Magri  Udaipur   India  21-06-2016   \n",
      "1          Near Nai Gaon  Udaipur   India  21-06-2016   \n",
      "2  Near Bagore Ki Haveli  Udaipur   India  21-06-2016   \n",
      "3                  Dabok  Udaipur   India  21-06-2016   \n",
      "4           East Udaipur  Udaipur   India  21-06-2016   \n",
      "\n",
      "                                     highlight_value  \\\n",
      "0                           All facilities available   \n",
      "1                           All facilities available   \n",
      "2                           All facilities available   \n",
      "3  Airport Transfer|Car rental|Conference Hall|Cu...   \n",
      "4                           All facilities available   \n",
      "\n",
      "                                      hotel_overview hotel_ star _rating  \\\n",
      "0  |Zion Home Stay is located in a city that sets...                   1   \n",
      "1  | Araliayas Resorts is a 3    hotel located am...                   3   \n",
      "2  |A 2    property is located at 24 km from Maha...                   2   \n",
      "3  |SNP House Airport Hotel And Restaurant is loa...                   1   \n",
      "4  | Hotel Pichola Haveli is situated in the beau...                   2   \n",
      "\n",
      "                                          image_urls         in_your_room  \\\n",
      "0                                                NaN  All Basic Amenities   \n",
      "1                                                NaN  All Basic Amenities   \n",
      "2                                                NaN  All Basic Amenities   \n",
      "3  //imghtlak.mmtcdn.com/images/hotels/2014071815...                  NaN   \n",
      "4                                                NaN  All Basic Amenities   \n",
      "\n",
      "  is_value_plus  ... Unnamed: 42  Unnamed: 43 Unnamed: 44 Unnamed: 45  \\\n",
      "0            no  ...         NaN          NaN         NaN         NaN   \n",
      "1            no  ...         NaN          NaN         NaN         NaN   \n",
      "2            no  ...         NaN          NaN         NaN         NaN   \n",
      "3            no  ...         NaN          NaN         NaN         NaN   \n",
      "4            no  ...         NaN          NaN         NaN         NaN   \n",
      "\n",
      "  Unnamed: 46 Unnamed: 47 Unnamed: 48 Unnamed: 49 Unnamed: 50 Unnamed: 51  \n",
      "0         NaN         NaN         NaN         NaN         NaN         NaN  \n",
      "1         NaN         NaN         NaN         NaN         NaN         NaN  \n",
      "2         NaN         NaN         NaN         NaN         NaN         NaN  \n",
      "3         NaN         NaN         NaN         NaN         NaN         NaN  \n",
      "4         NaN         NaN         NaN         NaN         NaN         NaN  \n",
      "\n",
      "[5 rows x 52 columns]\n"
     ]
    }
   ],
   "source": [
    "print(\"Shape :\", df.shape)\n",
    "print(\"Columns :\", df.columns)\n",
    "print(df.head())"
   ]
  },
  {
   "cell_type": "code",
   "execution_count": 4,
   "id": "73b61d95",
   "metadata": {},
   "outputs": [],
   "source": [
    "df = df.apply(lambda x: x.str.strip() if x.dtype == \"object\" else x)"
   ]
  },
  {
   "cell_type": "code",
   "execution_count": 5,
   "id": "41c8af24",
   "metadata": {},
   "outputs": [],
   "source": [
    "df.drop_duplicates(inplace=True)"
   ]
  },
  {
   "cell_type": "code",
   "execution_count": 6,
   "id": "f38555ed",
   "metadata": {},
   "outputs": [],
   "source": [
    "threshold = 0.5 \n",
    "df = df[df.columns[df.isnull().mean() < threshold]]"
   ]
  },
  {
   "cell_type": "code",
   "execution_count": 7,
   "id": "b83fcf01",
   "metadata": {},
   "outputs": [],
   "source": [
    "for col in df.columns:\n",
    "    if df[col].dtype == 'object':\n",
    "        df[col] = df[col].fillna(df[col].mode()[0])\n",
    "    else:\n",
    "        df[col] = df[col].fillna(df[col].median())\n"
   ]
  },
  {
   "cell_type": "code",
   "execution_count": 8,
   "id": "69284a86",
   "metadata": {},
   "outputs": [],
   "source": [
    "for col in df.columns:\n",
    "    if 'price' in col.lower() or 'rating' in col.lower():\n",
    "        df[col] = pd.to_numeric(df[col], errors='coerce')"
   ]
  },
  {
   "cell_type": "code",
   "execution_count": 9,
   "id": "280f040c",
   "metadata": {},
   "outputs": [],
   "source": [
    "df.fillna(0, inplace=True)"
   ]
  },
  {
   "cell_type": "code",
   "execution_count": 10,
   "id": "4bec122a",
   "metadata": {},
   "outputs": [],
   "source": [
    "df.to_csv(\"Hotel_data_cleaned.csv\", index=False)"
   ]
  },
  {
   "cell_type": "code",
   "execution_count": 11,
   "id": "69d92298",
   "metadata": {},
   "outputs": [
    {
     "name": "stdout",
     "output_type": "stream",
     "text": [
      "Data Cleaned and saved to makemytrip_cleaned.csv\n",
      "Final Shape : (20080, 27)\n",
      "Columns : ['area', 'city', 'country', 'crawl_date', 'highlight_value', 'hotel_overview', 'hotel_ star _rating', 'in_your_room', 'is_value_plus', 'latitude', 'longitude', 'mmt_location_rating', 'mmt_review_rating', 'mmt_traveller_type_review_count', 'mmt_tripadvisor_count', 'pageurl', 'property_address', 'property_id', 'property_name', 'property_type', 'query_time_stamp', 'room_types', 'site_review_count', 'site_review_rating', 'sitename', 'uniq_id', 'price']\n"
     ]
    }
   ],
   "source": [
    "print(\"Data Cleaned and saved to makemytrip_cleaned.csv\")\n",
    "print(\"Final Shape :\", df.shape)\n",
    "print(\"Columns :\", df.columns.tolist())"
   ]
  },
  {
   "cell_type": "code",
   "execution_count": 12,
   "id": "21dd42bd",
   "metadata": {},
   "outputs": [],
   "source": [
    "from sklearn.preprocessing import MinMaxScaler"
   ]
  },
  {
   "cell_type": "code",
   "execution_count": 13,
   "id": "65599c95",
   "metadata": {},
   "outputs": [],
   "source": [
    "df = pd.read_csv(\"Hotel_data_cleaned.csv\", encoding='ISO-8859-1')\n"
   ]
  },
  {
   "cell_type": "code",
   "execution_count": 14,
   "id": "21babadb",
   "metadata": {},
   "outputs": [
    {
     "name": "stdout",
     "output_type": "stream",
     "text": [
      "Available Columns:\n",
      " Index(['area', 'city', 'country', 'crawl_date', 'highlight_value',\n",
      "       'hotel_overview', 'hotel_ star _rating', 'in_your_room',\n",
      "       'is_value_plus', 'latitude', 'longitude', 'mmt_location_rating',\n",
      "       'mmt_review_rating', 'mmt_traveller_type_review_count',\n",
      "       'mmt_tripadvisor_count', 'pageurl', 'property_address', 'property_id',\n",
      "       'property_name', 'property_type', 'query_time_stamp', 'room_types',\n",
      "       'site_review_count', 'site_review_rating', 'sitename', 'uniq_id',\n",
      "       'price'],\n",
      "      dtype='object')\n"
     ]
    }
   ],
   "source": [
    "print(\"Available Columns:\\n\",df.columns)"
   ]
  },
  {
   "cell_type": "code",
   "execution_count": 15,
   "id": "de3a86be",
   "metadata": {},
   "outputs": [],
   "source": [
    "if 'amenities' in df.columns:\n",
    "    amenities_dumies =df['amenities'].str.get_dummies(sep=',')\n",
    "    df = pd.concat([df, amenities_dumies], axis=1)"
   ]
  },
  {
   "cell_type": "code",
   "execution_count": 16,
   "id": "eb942402",
   "metadata": {},
   "outputs": [],
   "source": [
    "from sklearn.preprocessing import MinMaxScaler\n",
    "scaler = MinMaxScaler()"
   ]
  },
  {
   "cell_type": "code",
   "execution_count": 17,
   "id": "bb0b7218",
   "metadata": {},
   "outputs": [],
   "source": [
    "for col in df.columns:\n",
    "    if 'price' in col.lower() or 'rating' in col.lower():\n",
    "        df[col] = pd.to_numeric(df[col], errors='coerce').fillna(0)\n",
    "        df[[col]] = scaler.fit_transform(df[[col]])"
   ]
  },
  {
   "cell_type": "code",
   "execution_count": 18,
   "id": "b570d438",
   "metadata": {},
   "outputs": [
    {
     "name": "stdout",
     "output_type": "stream",
     "text": [
      "Data with features saved to Hotel_data_features.csv\n"
     ]
    }
   ],
   "source": [
    "df.to_csv(\"Hotel_data_features.csv\",index=False)\n",
    "print(\"Data with features saved to Hotel_data_features.csv\")"
   ]
  },
  {
   "cell_type": "code",
   "execution_count": 19,
   "id": "c1ed75e3",
   "metadata": {},
   "outputs": [],
   "source": [
    "from pyspark.sql import SparkSession"
   ]
  },
  {
   "cell_type": "code",
   "execution_count": 20,
   "id": "5c322e88",
   "metadata": {},
   "outputs": [],
   "source": [
    "spark = SparkSession.builder \\\n",
    "    .appName(\"HotelRecommendationSystem\") \\\n",
    "    .getOrCreate()"
   ]
  },
  {
   "cell_type": "code",
   "execution_count": 21,
   "id": "6dc80ce2",
   "metadata": {},
   "outputs": [
    {
     "name": "stdout",
     "output_type": "stream",
     "text": [
      "root\n",
      " |-- area: string (nullable = true)\n",
      " |-- city: string (nullable = true)\n",
      " |-- country: string (nullable = true)\n",
      " |-- crawl_date: string (nullable = true)\n",
      " |-- highlight_value: string (nullable = true)\n",
      " |-- hotel_overview: string (nullable = true)\n",
      " |-- hotel_ star _rating: string (nullable = true)\n",
      " |-- in_your_room: string (nullable = true)\n",
      " |-- is_value_plus: string (nullable = true)\n",
      " |-- latitude: string (nullable = true)\n",
      " |-- longitude: string (nullable = true)\n",
      " |-- mmt_location_rating: string (nullable = true)\n",
      " |-- mmt_review_rating: string (nullable = true)\n",
      " |-- mmt_traveller_type_review_count: string (nullable = true)\n",
      " |-- mmt_tripadvisor_count: string (nullable = true)\n",
      " |-- pageurl: string (nullable = true)\n",
      " |-- property_address: string (nullable = true)\n",
      " |-- property_id: string (nullable = true)\n",
      " |-- property_name: string (nullable = true)\n",
      " |-- property_type: string (nullable = true)\n",
      " |-- query_time_stamp: string (nullable = true)\n",
      " |-- room_types: string (nullable = true)\n",
      " |-- site_review_count: string (nullable = true)\n",
      " |-- site_review_rating: string (nullable = true)\n",
      " |-- sitename: string (nullable = true)\n",
      " |-- uniq_id: string (nullable = true)\n",
      " |-- price: string (nullable = true)\n",
      "\n",
      "+--------------------+-------+-------+----------+--------------------+--------------------+-------------------+-------------------+-------------+---------+---------+-------------------+-----------------+-------------------------------+---------------------+--------------------+--------------------+-----------+--------------------+-------------+--------------------+----------+-----------------+--------------------+----------+--------------------+-------------------+\n",
      "|                area|   city|country|crawl_date|     highlight_value|      hotel_overview|hotel_ star _rating|       in_your_room|is_value_plus| latitude|longitude|mmt_location_rating|mmt_review_rating|mmt_traveller_type_review_count|mmt_tripadvisor_count|             pageurl|    property_address|property_id|       property_name|property_type|    query_time_stamp|room_types|site_review_count|  site_review_rating|  sitename|             uniq_id|              price|\n",
      "+--------------------+-------+-------+----------+--------------------+--------------------+-------------------+-------------------+-------------+---------+---------+-------------------+-----------------+-------------------------------+---------------------+--------------------+--------------------+-----------+--------------------+-------------+--------------------+----------+-----------------+--------------------+----------+--------------------+-------------------+\n",
      "|   Hardasji Ki Magri|Udaipur|  India|21-06-2016|All facilities av...||Zion Home Stay i...|0.01295785413148433|All Basic Amenities|           no|24.581788|73.667805|                0.0|              0.0|           Families:{{rating...|                    6|http://hotelz.mak...|Zion, F-17, Harid...|   2.01E+17|      Zion Home Stay|        Hotel|2016-06-21 04:06:...|    Deluxe|             98.0|0.000670091579182...|makemytrip|78ddf880bd7937d38...|0.24975000000000003|\n",
      "|       Near Nai Gaon|Udaipur|  India|21-06-2016|All facilities av...|| Araliayas Resor...|0.03887356239445299|All Basic Amenities|           no|24.544342|73.644242|                0.0|              0.0|           Families:{{rating...|                   34|http://hotelz.mak...|Udaipur-Jhadol Ro...|   2.01E+17|   Araliayas Resorts|        Hotel|2016-06-21 04:06:...|    Deluxe|             69.0|0.000893455438909...|makemytrip|9f9f9cbb2f7df8089...|            0.37475|\n",
      "|Near Bagore Ki Ha...|Udaipur|  India|21-06-2016|All facilities av...||A 2    property ...|0.02591570826296866|All Basic Amenities|           no|24.579942|73.681953|                0.0|              0.0|           Families:{{rating...|                   16|http://hotelz.mak...|23/208 Gangaur Gh...|   2.01E+17|    Shri Udai Palace|        Hotel|2016-06-21 04:06:...|    Deluxe|             50.0|0.000446727719454...|makemytrip|b314bb7fa8bfb1ed3...|0.30074999999999996|\n",
      "|               Dabok|Udaipur|  India|21-06-2016|Airport Transfer|...||SNP House Airpor...|0.01295785413148433|All Basic Amenities|           no|24.622607|73.855194|                0.0|              0.0|           Families:|Couples...|                    3|http://hotelz.mak...|Opp GITS, NH-76, ...|   2.01E+17|SNP House Airport...|        Hotel|2016-06-21 04:06:...| `standard|             70.0|                 0.0|makemytrip|e6f5bb3c2d76a78d9...|              0.911|\n",
      "|        East Udaipur|Udaipur|  India|21-06-2016|All facilities av...|| Hotel Pichola H...|0.02591570826296866|All Basic Amenities|           no|  24.5801|  73.6822|                0.0|              0.0|           Families:{{rating...|                  139|http://hotelz.mak...|64 Ghangour Ghat,...|   2.01E+17|Hotel Pichola Hav...|        Hotel|2016-06-21 04:06:...|    Deluxe|            106.0|0.000446727719454...|makemytrip|63072c301427b6ca4...| 0.9817500000000001|\n",
      "+--------------------+-------+-------+----------+--------------------+--------------------+-------------------+-------------------+-------------+---------+---------+-------------------+-----------------+-------------------------------+---------------------+--------------------+--------------------+-----------+--------------------+-------------+--------------------+----------+-----------------+--------------------+----------+--------------------+-------------------+\n",
      "only showing top 5 rows\n",
      "\n"
     ]
    }
   ],
   "source": [
    "df_spark = spark.read.option(\"header\", \"true\").option(\"inferSchema\", \"true\").csv(\"Hotel_data_features.csv\")\n",
    "\n",
    "df_spark.printSchema()\n",
    "df_spark.show(5)"
   ]
  },
  {
   "cell_type": "code",
   "execution_count": 22,
   "id": "be6a830d",
   "metadata": {},
   "outputs": [],
   "source": [
    "from pyspark.ml.feature import VectorAssembler\n",
    "feature_cols = [\n",
    "    \"price\",\n",
    "    \"mmt_review_rating\",\n",
    "    \"site_review_rating\",\n",
    "    \"hotel_star_rating\",\n",
    "    \"mmt_location_rating\"\n",
    "]"
   ]
  },
  {
   "cell_type": "code",
   "execution_count": 23,
   "id": "a4c60125",
   "metadata": {},
   "outputs": [],
   "source": [
    "df_spark = df_spark.withColumnRenamed(\"hotel_ star _rating\", \"hotel_star_rating\")\n"
   ]
  },
  {
   "cell_type": "code",
   "execution_count": 24,
   "id": "91954ce3",
   "metadata": {},
   "outputs": [
    {
     "name": "stdout",
     "output_type": "stream",
     "text": [
      "+-----------+-----------------------------------------------------------------------+\n",
      "|property_id|features                                                               |\n",
      "+-----------+-----------------------------------------------------------------------+\n",
      "|2.01E+17   |[0.24975000000000003,0.0,6.700915791824883E-4,0.01295785413148433,0.0] |\n",
      "|2.01E+17   |[0.37475,0.0,8.934554389099843E-4,0.03887356239445299,0.0]             |\n",
      "|2.01E+17   |[0.30074999999999996,0.0,4.4672771945499217E-4,0.02591570826296866,0.0]|\n",
      "|2.01E+17   |(5,[0,3],[0.911,0.01295785413148433])                                  |\n",
      "|2.01E+17   |[0.9817500000000001,0.0,4.4672771945499217E-4,0.02591570826296866,0.0] |\n",
      "+-----------+-----------------------------------------------------------------------+\n",
      "only showing top 5 rows\n",
      "\n"
     ]
    }
   ],
   "source": [
    "for col_name in feature_cols:\n",
    "    df_spark = df_spark.withColumn(col_name, df_spark[col_name].cast(\"double\"))\n",
    "\n",
    "assembler = VectorAssembler(inputCols=feature_cols, outputCol=\"features\")\n",
    "df_vectorized = assembler.transform(df_spark)\n",
    "df_vectorized.select(\"property_id\", \"features\").show(5, truncate=False)\n"
   ]
  },
  {
   "cell_type": "code",
   "execution_count": 25,
   "id": "683eaa45",
   "metadata": {},
   "outputs": [],
   "source": [
    "from pyspark.ml.feature import Normalizer\n",
    "\n",
    "normalizer = Normalizer(inputCol=\"features\", outputCol=\"norm_features\", p=2.0)\n",
    "df_norm = normalizer.transform(df_vectorized)\n"
   ]
  },
  {
   "cell_type": "code",
   "execution_count": 26,
   "id": "8e2def68",
   "metadata": {},
   "outputs": [
    {
     "name": "stdout",
     "output_type": "stream",
     "text": [
      "+--------------------+-------+-------+----------+--------------------+--------------------+-------------------+-------------------+-------------+---------+---------+-------------------+-----------------+-------------------------------+---------------------+--------------------+--------------------+-----------+--------------------+-------------+--------------------+----------+-----------------+--------------------+----------+--------------------+-------------------+\n",
      "|                area|   city|country|crawl_date|     highlight_value|      hotel_overview|  hotel_star_rating|       in_your_room|is_value_plus| latitude|longitude|mmt_location_rating|mmt_review_rating|mmt_traveller_type_review_count|mmt_tripadvisor_count|             pageurl|    property_address|property_id|       property_name|property_type|    query_time_stamp|room_types|site_review_count|  site_review_rating|  sitename|             uniq_id|              price|\n",
      "+--------------------+-------+-------+----------+--------------------+--------------------+-------------------+-------------------+-------------+---------+---------+-------------------+-----------------+-------------------------------+---------------------+--------------------+--------------------+-----------+--------------------+-------------+--------------------+----------+-----------------+--------------------+----------+--------------------+-------------------+\n",
      "|   Hardasji Ki Magri|Udaipur|  India|21-06-2016|All facilities av...||Zion Home Stay i...|0.01295785413148433|All Basic Amenities|           no|24.581788|73.667805|                0.0|              0.0|           Families:{{rating...|                    6|http://hotelz.mak...|Zion, F-17, Harid...|   2.01E+17|      Zion Home Stay|        Hotel|2016-06-21 04:06:...|    Deluxe|             98.0|6.700915791824883E-4|makemytrip|78ddf880bd7937d38...|0.24975000000000003|\n",
      "|       Near Nai Gaon|Udaipur|  India|21-06-2016|All facilities av...|| Araliayas Resor...|0.03887356239445299|All Basic Amenities|           no|24.544342|73.644242|                0.0|              0.0|           Families:{{rating...|                   34|http://hotelz.mak...|Udaipur-Jhadol Ro...|   2.01E+17|   Araliayas Resorts|        Hotel|2016-06-21 04:06:...|    Deluxe|             69.0|8.934554389099843E-4|makemytrip|9f9f9cbb2f7df8089...|            0.37475|\n",
      "|Near Bagore Ki Ha...|Udaipur|  India|21-06-2016|All facilities av...||A 2    property ...|0.02591570826296866|All Basic Amenities|           no|24.579942|73.681953|                0.0|              0.0|           Families:{{rating...|                   16|http://hotelz.mak...|23/208 Gangaur Gh...|   2.01E+17|    Shri Udai Palace|        Hotel|2016-06-21 04:06:...|    Deluxe|             50.0|4.467277194549921...|makemytrip|b314bb7fa8bfb1ed3...|0.30074999999999996|\n",
      "|               Dabok|Udaipur|  India|21-06-2016|Airport Transfer|...||SNP House Airpor...|0.01295785413148433|All Basic Amenities|           no|24.622607|73.855194|                0.0|              0.0|           Families:|Couples...|                    3|http://hotelz.mak...|Opp GITS, NH-76, ...|   2.01E+17|SNP House Airport...|        Hotel|2016-06-21 04:06:...| `standard|             70.0|                 0.0|makemytrip|e6f5bb3c2d76a78d9...|              0.911|\n",
      "|        East Udaipur|Udaipur|  India|21-06-2016|All facilities av...|| Hotel Pichola H...|0.02591570826296866|All Basic Amenities|           no|  24.5801|  73.6822|                0.0|              0.0|           Families:{{rating...|                  139|http://hotelz.mak...|64 Ghangour Ghat,...|   2.01E+17|Hotel Pichola Hav...|        Hotel|2016-06-21 04:06:...|    Deluxe|            106.0|4.467277194549921...|makemytrip|63072c301427b6ca4...| 0.9817500000000001|\n",
      "+--------------------+-------+-------+----------+--------------------+--------------------+-------------------+-------------------+-------------+---------+---------+-------------------+-----------------+-------------------------------+---------------------+--------------------+--------------------+-----------+--------------------+-------------+--------------------+----------+-----------------+--------------------+----------+--------------------+-------------------+\n",
      "only showing top 5 rows\n",
      "\n"
     ]
    }
   ],
   "source": [
    "df_spark.columns\n",
    "df_spark.select(df_spark.columns).show(5)"
   ]
  },
  {
   "cell_type": "code",
   "execution_count": 27,
   "id": "be100358",
   "metadata": {},
   "outputs": [],
   "source": [
    "\n",
    "drop_cols = ['crawl_date', 'is_value_plus', 'mmt_location_rating', 'mmt_review_rating', 'uniq_id']  \n",
    "df_spark_cleaned = df_spark.drop(*[col for col in drop_cols if col in df_spark.columns])\n",
    "numeric_features = [\"price\", \"site_review_rating\", \"hotel_star_rating\"]\n"
   ]
  },
  {
   "cell_type": "code",
   "execution_count": 28,
   "id": "0119273d",
   "metadata": {},
   "outputs": [
    {
     "name": "stdout",
     "output_type": "stream",
     "text": [
      "+-------+--------------------+\n",
      "|summary|               price|\n",
      "+-------+--------------------+\n",
      "|  count|               19925|\n",
      "|   mean|6.062735257214603E13|\n",
      "| stddev| 3.49332373085018E15|\n",
      "|    min|                 0.0|\n",
      "|    25%|               0.277|\n",
      "|    50%| 0.49787500000000007|\n",
      "|    75%|             0.71575|\n",
      "|    max|             2.02E17|\n",
      "+-------+--------------------+\n",
      "\n",
      "+-------+--------------------+\n",
      "|summary|  site_review_rating|\n",
      "+-------+--------------------+\n",
      "|  count|               19944|\n",
      "|   mean|3.129261933413573...|\n",
      "| stddev|2.473248338165631E15|\n",
      "|    min|                 0.0|\n",
      "|    25%|2.233638597274960...|\n",
      "|    50%|4.467277194549921...|\n",
      "|    75%|6.700915791824883E-4|\n",
      "|    max|             2.02E17|\n",
      "+-------+--------------------+\n",
      "\n",
      "+-------+--------------------+\n",
      "|summary|   hotel_star_rating|\n",
      "+-------+--------------------+\n",
      "|  count|               19883|\n",
      "|   mean| 0.02383568796737522|\n",
      "| stddev|0.022932944637389745|\n",
      "|    min|                 0.0|\n",
      "|    25%| 0.01295785413148433|\n",
      "|    50%| 0.01295785413148433|\n",
      "|    75%| 0.03887356239445299|\n",
      "|    max|  0.9999999999999999|\n",
      "+-------+--------------------+\n",
      "\n"
     ]
    }
   ],
   "source": [
    "for col_name in numeric_features:\n",
    "    df_spark.select(col_name).summary().show()"
   ]
  },
  {
   "cell_type": "code",
   "execution_count": 29,
   "id": "6d3b60e5",
   "metadata": {},
   "outputs": [],
   "source": [
    "from pyspark.sql.functions import mean\n",
    "\n",
    "for col_name in numeric_features:\n",
    "    mean_val = df_spark.select(mean(col_name)).collect()[0][0]\n",
    "    df_spark = df_spark.fillna({col_name: mean_val})\n"
   ]
  },
  {
   "cell_type": "code",
   "execution_count": 30,
   "id": "4c36a1ea",
   "metadata": {},
   "outputs": [],
   "source": [
    "from pyspark.sql.functions import mean\n",
    "\n",
    "for col_name in numeric_features:\n",
    "    mean_val = df_spark.select(mean(col_name)).collect()[0][0]\n",
    "    df_spark = df_spark.fillna({col_name: mean_val})"
   ]
  },
  {
   "cell_type": "code",
   "execution_count": 31,
   "id": "dc6106cc",
   "metadata": {},
   "outputs": [
    {
     "data": {
      "text/plain": [
       "(20080, 27)"
      ]
     },
     "execution_count": 31,
     "metadata": {},
     "output_type": "execute_result"
    }
   ],
   "source": [
    "df.shape"
   ]
  },
  {
   "cell_type": "code",
   "execution_count": 32,
   "id": "37c24f36",
   "metadata": {},
   "outputs": [
    {
     "name": "stdout",
     "output_type": "stream",
     "text": [
      "+-----------+---------------------------------------------------------------------------------------------------------------+\n",
      "|property_id|scaled_features                                                                                                |\n",
      "+-----------+---------------------------------------------------------------------------------------------------------------+\n",
      "|2.01E+17   |[4.119427773178775E-15,4.825870646766169E-16,2.1413726093920012E-17,0.19999999999999998,2.9638822504299583E-17]|\n",
      "|2.01E+17   |[6.181203435430415E-15,3.383084577114428E-16,2.8551634791893345E-17,0.6,1.682526838904382E-16]                 |\n",
      "|2.01E+17   |[4.960632243377443E-15,2.4378109452736315E-16,1.4275817395946673E-17,0.39999999999999997,7.914377299934909E-17]|\n",
      "|2.01E+17   |[1.5026221026489945E-14,3.4328358208955224E-16,0.0,0.19999999999999998,1.4787337355784733E-17]                 |\n",
      "|2.01E+17   |[1.6193186051324375E-14,5.223880597014925E-16,1.4275817395946673E-17,0.39999999999999997,6.880546640884581E-16]|\n",
      "+-----------+---------------------------------------------------------------------------------------------------------------+\n",
      "only showing top 5 rows\n",
      "\n"
     ]
    }
   ],
   "source": [
    "from pyspark.ml.feature import  MinMaxScaler\n",
    "numeric_features = [\n",
    "    \"price\",\n",
    "    \"site_review_count\",\n",
    "    \"site_review_rating\",\n",
    "    \"hotel_star_rating\",\n",
    "    \"mmt_tripadvisor_count\"\n",
    "]\n",
    "\n",
    "for col_name in numeric_features:\n",
    "    df_spark = df_spark.withColumn(col_name, df_spark[col_name].cast(\"double\"))\n",
    "\n",
    "    df_spark = df_spark.dropna(subset=numeric_features) #for removing rows with null values in numeric features\n",
    "\n",
    "assembler = VectorAssembler(inputCols=numeric_features, outputCol=\"numeric_features\")\n",
    "df_temp = assembler.transform(df_spark)\n",
    "\n",
    "scaler = MinMaxScaler(inputCol=\"numeric_features\", outputCol=\"scaled_features\")\n",
    "scaler_model = scaler.fit(df_temp)\n",
    "df_scaled = scaler_model.transform(df_temp)\n",
    "\n",
    "\n",
    "df_scaled.select(\"property_id\", \"scaled_features\").show(5, truncate=False)\n"
   ]
  },
  {
   "cell_type": "code",
   "execution_count": 33,
   "id": "dcf2e178",
   "metadata": {},
   "outputs": [],
   "source": [
    "import pyspark.sql.functions as F\n",
    "from pyspark.sql.functions import udf\n",
    "from pyspark.ml.linalg import DenseVector\n",
    "from pyspark.sql.types import FloatType\n",
    "\n",
    "def extract_feature(vec, idx):\n",
    "    return float(vec[idx])\n",
    "\n",
    "extract_udf = udf(extract_feature, FloatType())\n",
    "\n",
    "for i, col_name in enumerate(numeric_features):\n",
    "    df_scaled = df_scaled.withColumn(col_name + \"_norm\", extract_udf(\"scaled_features\", F.lit(i)))\n"
   ]
  },
  {
   "cell_type": "code",
   "execution_count": 34,
   "id": "be8526b2",
   "metadata": {},
   "outputs": [],
   "source": [
    "final_features = [\"price_norm\",\n",
    "    \"site_review_count_norm\",\n",
    "    \"site_review_rating_norm\",\n",
    "    \"hotel_star_rating_norm\",\n",
    "    \"mmt_tripadvisor_count_norm\"]  \n",
    "\n",
    "assembler = VectorAssembler(inputCols=final_features, outputCol=\"features\")\n",
    "df_vectorized = assembler.transform(df_scaled)"
   ]
  },
  {
   "cell_type": "code",
   "execution_count": 35,
   "id": "c3c25063",
   "metadata": {},
   "outputs": [],
   "source": [
    "final_features = [\n",
    "    'price_norm', 'rating_norm', 'location_norm', 'site_review_count_norm',\n",
    "    'site_review_rating_norm', 'hotel_star_rating_norm', 'mmt_tripadvisor_count_norm'\n",
    "]"
   ]
  },
  {
   "cell_type": "code",
   "execution_count": 36,
   "id": "bda3c57d",
   "metadata": {
    "vscode": {
     "languageId": "ruby"
    }
   },
   "outputs": [
    {
     "name": "stdout",
     "output_type": "stream",
     "text": [
      "site_review_rating     1.000000\n",
      "longitude              0.010881\n",
      "site_review_count      0.000187\n",
      "price                 -0.000219\n",
      "mmt_location_rating   -0.009625\n",
      "hotel_ star _rating   -0.009966\n",
      "mmt_review_rating           NaN\n",
      "Name: site_review_rating, dtype: float64\n"
     ]
    }
   ],
   "source": [
    "corr_matrix = df.corr(numeric_only=True)\n",
    "print(corr_matrix[\"site_review_rating\"].sort_values(ascending=False))\n"
   ]
  },
  {
   "cell_type": "code",
   "execution_count": 37,
   "id": "84ee6d4b",
   "metadata": {},
   "outputs": [],
   "source": [
    "from pyspark.sql import SparkSession\n",
    "from pyspark.sql.functions import concat_ws, col"
   ]
  },
  {
   "cell_type": "code",
   "execution_count": 38,
   "id": "7018d722",
   "metadata": {},
   "outputs": [],
   "source": [
    "spark = SparkSession.builder.appName(\"HotelRecommender\").getOrCreate() #Starting a Spark session\n",
    "df = spark.read.csv(\"Hotel_data_features.csv\", header=True, inferSchema=True)#Loading data\n",
    "\n",
    "#Combining text fields\n",
    "df = df.fillna({'hotel_overview': '', 'highlight_value': '', 'in_your_room': ''})\n",
    "df = df.withColumn(\"text_features\", concat_ws(\" \", \"hotel_overview\", \"highlight_value\", \"in_your_room\"))"
   ]
  },
  {
   "cell_type": "code",
   "execution_count": 39,
   "id": "1747964f",
   "metadata": {},
   "outputs": [],
   "source": [
    "from pyspark.sql.functions import when\n",
    "\n",
    "df = df.withColumn(\"price\", when(col(\"price\") == \"N/A\", None).otherwise(col(\"price\")).cast(\"double\"))\n",
    "df = df.withColumn(\"site_review_rating\", when(col(\"site_review_rating\") == \"N/A\", None).otherwise(col(\"site_review_rating\")).cast(\"double\"))\n",
    "df = df.withColumn(\"hotel_star_rating\", when(col(\"hotel_ star _rating\") == \"N/A\", None).otherwise(col(\"hotel_ star _rating\")).cast(\"double\"))\n",
    "\n",
    "\n",
    "df = df.dropna(subset=[\"price\", \"site_review_rating\", \"hotel_star_rating\"]) #dropping the rows with null values\n"
   ]
  },
  {
   "cell_type": "code",
   "execution_count": 40,
   "id": "f5e514c9",
   "metadata": {},
   "outputs": [],
   "source": [
    "from pyspark.ml.feature import VectorAssembler, MinMaxScaler\n",
    "from pyspark.sql.functions import col\n",
    "from pyspark.sql.types import DoubleType\n",
    "\n",
    "# Converting string columns to double\n",
    "df = df.withColumn(\"price\", col(\"price\").cast(DoubleType()))\n",
    "df = df.withColumn(\"site_review_rating\", col(\"site_review_rating\").cast(DoubleType()))\n",
    "df = df.withColumn(\"hotel_star_rating\", col(\"hotel_star_rating\").cast(DoubleType()))\n",
    "\n",
    "assembler = VectorAssembler(inputCols=[\"price\", \"site_review_rating\", \"hotel_star_rating\"], outputCol=\"numerical_features\")\n",
    "df = assembler.transform(df)\n",
    "\n",
    "scaler = MinMaxScaler(inputCol=\"numerical_features\", outputCol=\"scaled_features\")\n",
    "scaler_model = scaler.fit(df)\n",
    "df = scaler_model.transform(df)\n"
   ]
  },
  {
   "cell_type": "code",
   "execution_count": 41,
   "id": "05747278",
   "metadata": {},
   "outputs": [],
   "source": [
    "if \"cluster_id\" in df.columns:\n",
    "    df = df.drop(\"cluster_id\")\n",
    "#just in case of rerunning the program it shows error so this is to resolve this"
   ]
  },
  {
   "cell_type": "code",
   "execution_count": 42,
   "id": "c4fb9da7",
   "metadata": {},
   "outputs": [
    {
     "name": "stdout",
     "output_type": "stream",
     "text": [
      "+--------------------------------------+----------+\n",
      "|property_name                         |cluster_id|\n",
      "+--------------------------------------+----------+\n",
      "|Zion Home Stay                        |1         |\n",
      "|Araliayas Resorts                     |1         |\n",
      "|Shri Udai Palace                      |1         |\n",
      "|SNP House Airport Hotel And Restaurant|3         |\n",
      "|Hotel Pichola Haveli (LAKE SIDE)      |3         |\n",
      "+--------------------------------------+----------+\n",
      "only showing top 5 rows\n",
      "\n"
     ]
    }
   ],
   "source": [
    "from pyspark.ml.clustering import KMeans\n",
    "\n",
    "# Applying K-Means clustering\n",
    "kmeans = KMeans(featuresCol=\"scaled_features\", predictionCol=\"cluster_id\", k=5, seed=42)\n",
    "kmeans_model = kmeans.fit(df)\n",
    "df = kmeans_model.transform(df)\n",
    "\n",
    "df.select(\"property_name\", \"cluster_id\").show(5, truncate=False)\n"
   ]
  },
  {
   "cell_type": "code",
   "execution_count": 43,
   "id": "ff500d64",
   "metadata": {},
   "outputs": [],
   "source": [
    "from pyspark.ml.feature import Tokenizer, StopWordsRemover, HashingTF, IDF\n",
    "\n",
    "tokenizer = Tokenizer(inputCol=\"text_features\", outputCol=\"words\")\n",
    "df = tokenizer.transform(df)\n",
    "\n",
    "remover = StopWordsRemover(inputCol=\"words\", outputCol=\"filtered\")\n",
    "df = remover.transform(df)\n",
    "\n",
    "hashingTF = HashingTF(inputCol=\"filtered\", outputCol=\"raw_features\", numFeatures=10000)\n",
    "df = hashingTF.transform(df)\n",
    "\n",
    "idf = IDF(inputCol=\"raw_features\", outputCol=\"tfidf_features\")\n",
    "idf_model = idf.fit(df)\n",
    "df = idf_model.transform(df)\n"
   ]
  },
  {
   "cell_type": "code",
   "execution_count": 44,
   "id": "a5a36261",
   "metadata": {},
   "outputs": [],
   "source": [
    "def recommend_similar_hotels(spark_df, hotel_name, top_n=5):\n",
    "    hotel_row = spark_df.filter(col(\"property_name\") == hotel_name).collect()[0]\n",
    "    cluster_id = hotel_row[\"cluster_id\"]\n",
    "\n",
    "    cluster_df = spark_df.filter(col(\"cluster_id\") == cluster_id).select(\"property_name\", \"tfidf_features\")\n",
    "\n",
    "    pandas_df = cluster_df.toPandas()\n",
    "\n",
    "    from sklearn.metrics.pairwise import cosine_similarity\n",
    "    import numpy as np\n",
    "\n",
    "    tfidf_matrix = np.vstack(pandas_df[\"tfidf_features\"].values)\n",
    "    similarities = cosine_similarity([hotel_row[\"tfidf_features\"]], tfidf_matrix)[0]\n",
    "\n",
    "    pandas_df[\"similarity\"] = similarities\n",
    "    results = pandas_df[pandas_df[\"property_name\"] != hotel_name].sort_values(\"similarity\", ascending=False).head(top_n)\n",
    "\n",
    "    return results[[\"property_name\", \"similarity\"]]\n"
   ]
  },
  {
   "cell_type": "code",
   "execution_count": 45,
   "id": "47b97167",
   "metadata": {},
   "outputs": [
    {
     "name": "stdout",
     "output_type": "stream",
     "text": [
      "                        property_name  similarity\n",
      "1    Hotel Pichola Haveli (LAKE SIDE)    0.285795\n",
      "390              Hotel Krishna Palace    0.212195\n",
      "10            Janak Niwas Guest House    0.205688\n",
      "950                    Alsisar Haveli    0.196754\n",
      "385           Janak Niwas Guest House    0.185316\n"
     ]
    }
   ],
   "source": [
    "recommendations = recommend_similar_hotels(df, \"SNP House Airport Hotel And Restaurant\", top_n=5)\n",
    "print(recommendations)\n",
    "#just to check if the recommendations are working"
   ]
  },
  {
   "cell_type": "code",
   "execution_count": 46,
   "id": "9aeb2030",
   "metadata": {},
   "outputs": [],
   "source": [
    "def recommend_filtered_hotels(spark_df, hotel_name, city=None, min_price=None, max_price=None, amenity_keywords=None, top_n=5):\n",
    "    hotel_row = spark_df.filter(col(\"property_name\") == hotel_name).collect()[0]\n",
    "    cluster_id = hotel_row[\"cluster_id\"]\n",
    "\n",
    "    filtered_df = spark_df.filter(col(\"cluster_id\") == cluster_id)\n",
    "\n",
    "    if city:\n",
    "        filtered_df = filtered_df.filter(col(\"city\") == city)\n",
    "    if min_price is not None:\n",
    "        filtered_df = filtered_df.filter(col(\"price\") >= min_price)\n",
    "    if max_price is not None:\n",
    "        filtered_df = filtered_df.filter(col(\"price\") <= max_price)\n",
    "    if amenity_keywords:\n",
    "        for keyword in amenity_keywords:\n",
    "            filtered_df = filtered_df.filter(col(\"in_your_room\").contains(keyword))\n",
    "\n",
    "    pandas_df = filtered_df.select(\"property_name\", \"tfidf_features\").toPandas()\n",
    "\n",
    "    from sklearn.metrics.pairwise import cosine_similarity\n",
    "    import numpy as np\n",
    "\n",
    "    if pandas_df.empty:\n",
    "        return \"No results match the filters.\"\n",
    "\n",
    "    tfidf_matrix = np.vstack(pandas_df[\"tfidf_features\"].values)\n",
    "    similarities = cosine_similarity([hotel_row[\"tfidf_features\"]], tfidf_matrix)[0]\n",
    "\n",
    "    pandas_df[\"similarity\"] = similarities\n",
    "    pandas_df = pandas_df[pandas_df[\"property_name\"] != hotel_name]\n",
    "    return pandas_df.sort_values(\"similarity\", ascending=False).head(top_n)[[\"property_name\", \"similarity\"]]\n"
   ]
  },
  {
   "cell_type": "code",
   "execution_count": 47,
   "id": "83fe5594",
   "metadata": {},
   "outputs": [
    {
     "name": "stdout",
     "output_type": "stream",
     "text": [
      "                               property_name  similarity\n",
      "2286  SNP House Airport Hotel And Restaurant    0.303638\n",
      "10                   Janak Niwas Guest House    0.290962\n",
      "0     SNP House Airport Hotel And Restaurant    0.285795\n",
      "2796                        Hotel Sun Palace    0.280913\n",
      "425                     Hotel Jasol Heritage    0.270198\n"
     ]
    }
   ],
   "source": [
    "recommendations = recommend_similar_hotels(df, \"Hotel Pichola Haveli (LAKE SIDE)\", top_n=5)\n",
    "print(recommendations)\n",
    "#just to check if the recommendations are working"
   ]
  },
  {
   "cell_type": "code",
   "execution_count": 51,
   "id": "e7796bb9",
   "metadata": {},
   "outputs": [
    {
     "name": "stdout",
     "output_type": "stream",
     "text": [
      "✅ tfidf_features and cluster_id generated successfully.\n"
     ]
    }
   ],
   "source": [
    "import pandas as pd\n",
    "from sklearn.feature_extraction.text import TfidfVectorizer\n",
    "from sklearn.cluster import KMeans\n",
    "import numpy as np\n",
    "\n",
    "# Step 1: Load your hotel data\n",
    "df = pd.read_csv(\"Hotel_data_cleaned.csv\")\n",
    "\n",
    "# Step 2: Fill missing text with empty string (important for vectorizer)\n",
    "df[\"in_your_room\"] = df[\"in_your_room\"].fillna(\"\")\n",
    "\n",
    "# Step 3: Apply TF-IDF Vectorizer\n",
    "vectorizer = TfidfVectorizer(stop_words=\"english\")\n",
    "tfidf_matrix = vectorizer.fit_transform(df[\"in_your_room\"])\n",
    "\n",
    "# Step 4: Convert sparse matrix to dense feature array\n",
    "tfidf_features = tfidf_matrix.toarray()\n",
    "\n",
    "# Step 5: Store vectors as list in a new column\n",
    "df[\"tfidf_features\"] = tfidf_features.tolist()\n",
    "\n",
    "# Step 6: Cluster using KMeans (you can choose n_clusters = 5 or more)\n",
    "kmeans = KMeans(n_clusters=5, random_state=42)\n",
    "df[\"cluster_id\"] = kmeans.fit_predict(tfidf_features)\n",
    "\n",
    "# Step 7: Save the final data\n",
    "df.to_csv(\"Hotel_data_with_clusters.csv\", index=False)\n",
    "\n",
    "print(\"✅ tfidf_features and cluster_id generated successfully.\")\n"
   ]
  },
  {
   "cell_type": "code",
   "execution_count": null,
   "id": "fd7148b3",
   "metadata": {},
   "outputs": [],
   "source": []
  }
 ],
 "metadata": {
  "kernelspec": {
   "display_name": "Python 3",
   "language": "python",
   "name": "python3"
  },
  "language_info": {
   "codemirror_mode": {
    "name": "ipython",
    "version": 3
   },
   "file_extension": ".py",
   "mimetype": "text/x-python",
   "name": "python",
   "nbconvert_exporter": "python",
   "pygments_lexer": "ipython3",
   "version": "3.10.0"
  }
 },
 "nbformat": 4,
 "nbformat_minor": 5
}
